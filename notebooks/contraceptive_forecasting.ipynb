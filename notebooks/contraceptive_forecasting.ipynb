{
 "cells": [
  {
   "cell_type": "markdown",
   "metadata": {},
   "source": [
    "# Contraceptive Demand Forecasting \n",
    "\n",
    "Demand forecasting of contraceptive products in Côte d’Ivoire.\n",
    "\n",
    "### Dataset: \n",
    "Monthly data of 11 contraceptive products stock across 156 health service delivery sites in the public sector health system in Côte d’Ivoire, from January 2016 until June 2019.\n",
    "\n",
    "### Goal:\n",
    "Forecast contraceptives' stock demand for July, August and September of 2019.\n",
    "\n",
    "#### Author: Bruna Correa"
   ]
  },
  {
   "cell_type": "code",
   "execution_count": 1,
   "metadata": {},
   "outputs": [],
   "source": [
    "# Import general libraries\n",
    "import pandas as pd\n",
    "import numpy as np\n",
    "from numpy.random import seed\n",
    "from matplotlib import pyplot as plt\n",
    "from matplotlib import dates\n",
    "import seaborn as sns\n",
    "\n",
    "# Import classical forecasting libraries\n",
    "from statsmodels.tsa.arima_model import ARIMA,ARIMAResults \n",
    "from statsmodels.graphics.tsaplots import plot_acf,plot_pacf \n",
    "from statsmodels.tsa.seasonal import seasonal_decompose \n",
    "from statsmodels.tools.eval_measures import rmse, meanabs\n",
    "from pmdarima import auto_arima\n",
    "\n",
    "# Import neural network libraries\n",
    "from sklearn.preprocessing import MinMaxScaler\n",
    "from keras.preprocessing.sequence import TimeseriesGenerator\n",
    "from keras.models import Sequential, load_model\n",
    "from keras.layers import Dense, LSTM\n",
    "\n",
    "# Ignore warnings\n",
    "import warnings\n",
    "warnings.filterwarnings('ignore')\n",
    "\n",
    "# Set sns style\n",
    "sns.set(style=\"ticks\", color_codes=True)"
   ]
  },
  {
   "cell_type": "code",
   "execution_count": 2,
   "metadata": {},
   "outputs": [
    {
     "name": "stdout",
     "output_type": "stream",
     "text": [
      "Total number of rows: 35753\n",
      "Total number of columns: 14\n"
     ]
    },
    {
     "data": {
      "text/html": [
       "<div>\n",
       "<style scoped>\n",
       "    .dataframe tbody tr th:only-of-type {\n",
       "        vertical-align: middle;\n",
       "    }\n",
       "\n",
       "    .dataframe tbody tr th {\n",
       "        vertical-align: top;\n",
       "    }\n",
       "\n",
       "    .dataframe thead th {\n",
       "        text-align: right;\n",
       "    }\n",
       "</style>\n",
       "<table border=\"1\" class=\"dataframe\">\n",
       "  <thead>\n",
       "    <tr style=\"text-align: right;\">\n",
       "      <th></th>\n",
       "      <th>year</th>\n",
       "      <th>month</th>\n",
       "      <th>region</th>\n",
       "      <th>district</th>\n",
       "      <th>site_code</th>\n",
       "      <th>product_code</th>\n",
       "      <th>stock_initial</th>\n",
       "      <th>stock_received</th>\n",
       "      <th>stock_distributed</th>\n",
       "      <th>stock_adjustment</th>\n",
       "      <th>stock_end</th>\n",
       "      <th>average_monthly_consumption</th>\n",
       "      <th>stock_stockout_days</th>\n",
       "      <th>stock_ordered</th>\n",
       "    </tr>\n",
       "  </thead>\n",
       "  <tbody>\n",
       "    <tr>\n",
       "      <th>0</th>\n",
       "      <td>2019</td>\n",
       "      <td>1</td>\n",
       "      <td>INDENIE-DJUABLIN</td>\n",
       "      <td>ABENGOUROU</td>\n",
       "      <td>C4001</td>\n",
       "      <td>AS27134</td>\n",
       "      <td>75</td>\n",
       "      <td>0</td>\n",
       "      <td>21</td>\n",
       "      <td>-54</td>\n",
       "      <td>0</td>\n",
       "      <td>18</td>\n",
       "      <td>0</td>\n",
       "      <td>100.0</td>\n",
       "    </tr>\n",
       "    <tr>\n",
       "      <th>1</th>\n",
       "      <td>2019</td>\n",
       "      <td>1</td>\n",
       "      <td>INDENIE-DJUABLIN</td>\n",
       "      <td>ABENGOUROU</td>\n",
       "      <td>C4001</td>\n",
       "      <td>AS27132</td>\n",
       "      <td>3</td>\n",
       "      <td>0</td>\n",
       "      <td>3</td>\n",
       "      <td>0</td>\n",
       "      <td>0</td>\n",
       "      <td>2</td>\n",
       "      <td>0</td>\n",
       "      <td>10.0</td>\n",
       "    </tr>\n",
       "    <tr>\n",
       "      <th>2</th>\n",
       "      <td>2019</td>\n",
       "      <td>1</td>\n",
       "      <td>INDENIE-DJUABLIN</td>\n",
       "      <td>ABENGOUROU</td>\n",
       "      <td>C4001</td>\n",
       "      <td>AS27000</td>\n",
       "      <td>0</td>\n",
       "      <td>75</td>\n",
       "      <td>22</td>\n",
       "      <td>0</td>\n",
       "      <td>53</td>\n",
       "      <td>9</td>\n",
       "      <td>0</td>\n",
       "      <td>0.0</td>\n",
       "    </tr>\n",
       "    <tr>\n",
       "      <th>3</th>\n",
       "      <td>2019</td>\n",
       "      <td>1</td>\n",
       "      <td>INDENIE-DJUABLIN</td>\n",
       "      <td>ABENGOUROU</td>\n",
       "      <td>C4001</td>\n",
       "      <td>AS27137</td>\n",
       "      <td>2</td>\n",
       "      <td>0</td>\n",
       "      <td>0</td>\n",
       "      <td>0</td>\n",
       "      <td>2</td>\n",
       "      <td>0</td>\n",
       "      <td>0</td>\n",
       "      <td>0.0</td>\n",
       "    </tr>\n",
       "    <tr>\n",
       "      <th>4</th>\n",
       "      <td>2019</td>\n",
       "      <td>1</td>\n",
       "      <td>INDENIE-DJUABLIN</td>\n",
       "      <td>ABENGOUROU</td>\n",
       "      <td>C4001</td>\n",
       "      <td>AS27138</td>\n",
       "      <td>45</td>\n",
       "      <td>0</td>\n",
       "      <td>2</td>\n",
       "      <td>0</td>\n",
       "      <td>43</td>\n",
       "      <td>1</td>\n",
       "      <td>0</td>\n",
       "      <td>0.0</td>\n",
       "    </tr>\n",
       "  </tbody>\n",
       "</table>\n",
       "</div>"
      ],
      "text/plain": [
       "   year  month            region    district site_code product_code  \\\n",
       "0  2019      1  INDENIE-DJUABLIN  ABENGOUROU     C4001      AS27134   \n",
       "1  2019      1  INDENIE-DJUABLIN  ABENGOUROU     C4001      AS27132   \n",
       "2  2019      1  INDENIE-DJUABLIN  ABENGOUROU     C4001      AS27000   \n",
       "3  2019      1  INDENIE-DJUABLIN  ABENGOUROU     C4001      AS27137   \n",
       "4  2019      1  INDENIE-DJUABLIN  ABENGOUROU     C4001      AS27138   \n",
       "\n",
       "   stock_initial  stock_received  stock_distributed  stock_adjustment  \\\n",
       "0             75               0                 21               -54   \n",
       "1              3               0                  3                 0   \n",
       "2              0              75                 22                 0   \n",
       "3              2               0                  0                 0   \n",
       "4             45               0                  2                 0   \n",
       "\n",
       "   stock_end  average_monthly_consumption  stock_stockout_days  stock_ordered  \n",
       "0          0                           18                    0          100.0  \n",
       "1          0                            2                    0           10.0  \n",
       "2         53                            9                    0            0.0  \n",
       "3          2                            0                    0            0.0  \n",
       "4         43                            1                    0            0.0  "
      ]
     },
     "execution_count": 2,
     "metadata": {},
     "output_type": "execute_result"
    }
   ],
   "source": [
    "# Load and check dataset of contraceptives' stock:\n",
    "stock_df = pd.read_csv('/data/Train.csv')\n",
    "print(f'Total number of rows: {stock_df.shape[0]}')\n",
    "print(f'Total number of columns: {stock_df.shape[1]}')\n",
    "stock_df.head()"
   ]
  },
  {
   "cell_type": "code",
   "execution_count": 3,
   "metadata": {},
   "outputs": [
    {
     "name": "stdout",
     "output_type": "stream",
     "text": [
      "<class 'pandas.core.frame.DataFrame'>\n",
      "RangeIndex: 35753 entries, 0 to 35752\n",
      "Data columns (total 14 columns):\n",
      " #   Column                       Non-Null Count  Dtype  \n",
      "---  ------                       --------------  -----  \n",
      " 0   year                         35753 non-null  int64  \n",
      " 1   month                        35753 non-null  int64  \n",
      " 2   region                       35753 non-null  object \n",
      " 3   district                     35753 non-null  object \n",
      " 4   site_code                    35753 non-null  object \n",
      " 5   product_code                 35753 non-null  object \n",
      " 6   stock_initial                35753 non-null  int64  \n",
      " 7   stock_received               35753 non-null  int64  \n",
      " 8   stock_distributed            35753 non-null  int64  \n",
      " 9   stock_adjustment             35753 non-null  int64  \n",
      " 10  stock_end                    35753 non-null  int64  \n",
      " 11  average_monthly_consumption  35753 non-null  int64  \n",
      " 12  stock_stockout_days          35753 non-null  int64  \n",
      " 13  stock_ordered                34990 non-null  float64\n",
      "dtypes: float64(1), int64(9), object(4)\n",
      "memory usage: 3.8+ MB\n"
     ]
    }
   ],
   "source": [
    "# Features information:\n",
    "stock_df.info()"
   ]
  },
  {
   "cell_type": "code",
   "execution_count": 4,
   "metadata": {},
   "outputs": [],
   "source": [
    "# Subselect features that will be used for EDA and forecasting:\n",
    "stock_df_sel = stock_df[['year',\n",
    "                         'month',\n",
    "                         'region',\n",
    "                         'district',\n",
    "                         'site_code',\n",
    "                         'product_code',\n",
    "                         'stock_distributed']].copy()"
   ]
  },
  {
   "cell_type": "markdown",
   "metadata": {},
   "source": [
    "* Target variable: 'stock_distributed'."
   ]
  },
  {
   "cell_type": "markdown",
   "metadata": {},
   "source": [
    "## Exploratory Data Analysis"
   ]
  },
  {
   "cell_type": "code",
   "execution_count": 5,
   "metadata": {},
   "outputs": [
    {
     "data": {
      "text/plain": [
       "year                 0.0\n",
       "month                0.0\n",
       "region               0.0\n",
       "district             0.0\n",
       "site_code            0.0\n",
       "product_code         0.0\n",
       "stock_distributed    0.0\n",
       "dtype: float64"
      ]
     },
     "execution_count": 5,
     "metadata": {},
     "output_type": "execute_result"
    }
   ],
   "source": [
    "# Check for missing values:\n",
    "stock_df_sel.isnull().mean().sort_values()"
   ]
  },
  {
   "cell_type": "markdown",
   "metadata": {},
   "source": [
    "* No missing values."
   ]
  },
  {
   "cell_type": "code",
   "execution_count": 6,
   "metadata": {},
   "outputs": [
    {
     "data": {
      "text/plain": [
       "count    35753.000000\n",
       "mean        14.764327\n",
       "std         39.848242\n",
       "min          0.000000\n",
       "25%          0.000000\n",
       "50%          1.000000\n",
       "75%         13.000000\n",
       "max       1728.000000\n",
       "Name: stock_distributed, dtype: float64"
      ]
     },
     "execution_count": 6,
     "metadata": {},
     "output_type": "execute_result"
    }
   ],
   "source": [
    "# Summarize stock_distributed variable:\n",
    "stock_df_sel['stock_distributed'].describe()"
   ]
  },
  {
   "cell_type": "code",
   "execution_count": 7,
   "metadata": {},
   "outputs": [
    {
     "data": {
      "image/png": "[encoded data removed]",
      "text/plain": [
       "<Figure size 720x360 with 1 Axes>"
      ]
     },
     "metadata": {},
     "output_type": "display_data"
    }
   ],
   "source": [
    "# Plot distribution of stock_distributed variable:\n",
    "plt.figure(figsize=(10, 5))\n",
    "sns.distplot(a=stock_df_sel['stock_distributed'])\n",
    "plt.title('stock_distributed', fontsize=15)\n",
    "plt.tight_layout()"
   ]
  },
  {
   "cell_type": "code",
   "execution_count": 8,
   "metadata": {},
   "outputs": [
    {
     "data": {
      "image/png": "[encoded data removed]",
      "text/plain": [
       "<Figure size 864x360 with 1 Axes>"
      ]
     },
     "metadata": {},
     "output_type": "display_data"
    }
   ],
   "source": [
    "# Explore target by region:\n",
    "stock_df_sel['region'].value_counts(normalize=True).plot(kind='bar', figsize=(12, 5))\n",
    "plt.title('Stock distributed by region', size=18)\n",
    "plt.xlabel('Region')\n",
    "plt.ylabel('Proportion')\n",
    "plt.show()"
   ]
  },
  {
   "cell_type": "code",
   "execution_count": 9,
   "metadata": {},
   "outputs": [
    {
     "data": {
      "image/png": "[encoded data removed]",
      "text/plain": [
       "<Figure size 1440x360 with 1 Axes>"
      ]
     },
     "metadata": {},
     "output_type": "display_data"
    }
   ],
   "source": [
    "# Explore target by district:\n",
    "stock_df_sel['district'].value_counts(normalize=True).plot(kind='bar', figsize=(20, 5))\n",
    "plt.title('Stock distributed by district', size=14)\n",
    "plt.xlabel('District')\n",
    "plt.ylabel('Proportion')\n",
    "plt.show()"
   ]
  },
  {
   "cell_type": "code",
   "execution_count": 10,
   "metadata": {},
   "outputs": [
    {
     "data": {
      "image/png": "[encoded data removed]",
      "text/plain": [
       "<Figure size 864x360 with 1 Axes>"
      ]
     },
     "metadata": {},
     "output_type": "display_data"
    }
   ],
   "source": [
    "# Explore product's distribution:\n",
    "stock_df_sel['product_code'].value_counts(normalize=True).plot(kind='bar', figsize=(12, 5))\n",
    "plt.title('Stock distributed by product', size=14)\n",
    "plt.xlabel('Product')\n",
    "plt.ylabel('Proportion')\n",
    "plt.show()"
   ]
  },
  {
   "cell_type": "markdown",
   "metadata": {},
   "source": [
    "### Temporal EDA"
   ]
  },
  {
   "cell_type": "code",
   "execution_count": 11,
   "metadata": {},
   "outputs": [
    {
     "data": {
      "image/png": "[encoded data removed]",
      "text/plain": [
       "<Figure size 432x288 with 1 Axes>"
      ]
     },
     "metadata": {},
     "output_type": "display_data"
    }
   ],
   "source": [
    "# Group by site_code, product_code, year, to check time range completeness:\n",
    "stock_df_sel.groupby(['site_code', 'product_code', 'year']).nunique()['month'].plot(kind='hist')\n",
    "plt.xlabel('Months per year')\n",
    "plt.title('Number of months per year with available data', fontsize=15);"
   ]
  },
  {
   "cell_type": "markdown",
   "metadata": {},
   "source": [
    "* There are missing months for some combinations of site_code + product_code.\n",
    "* Peak at 6 months: for 2019 we only have data until June.\n",
    "* To do: populate missing months from Jan-2016 until Jun-2019 and impute values."
   ]
  },
  {
   "cell_type": "code",
   "execution_count": 12,
   "metadata": {},
   "outputs": [
    {
     "data": {
      "image/png": "[encoded data removed]",
      "text/plain": [
       "<Figure size 432x288 with 1 Axes>"
      ]
     },
     "metadata": {},
     "output_type": "display_data"
    }
   ],
   "source": [
    "# Plot total stock distributed by year:\n",
    "ax = stock_df_sel['year'].value_counts(normalize=False).sort_index().to_frame().transpose().plot.bar()\n",
    "ax.set_title('Total stock_distributed by year', fontsize=14)\n",
    "ax.set_ylabel('Count');"
   ]
  },
  {
   "cell_type": "markdown",
   "metadata": {},
   "source": [
    "* Distributed stock shows an increase across time from 2016 to 2018.\n",
    "* 2019 doesn't have data for all 12 months."
   ]
  },
  {
   "cell_type": "code",
   "execution_count": 13,
   "metadata": {},
   "outputs": [
    {
     "data": {
      "image/png": "[encoded data removed]",
      "text/plain": [
       "<Figure size 432x288 with 1 Axes>"
      ]
     },
     "metadata": {},
     "output_type": "display_data"
    }
   ],
   "source": [
    "# Plot total stock distributed by month:\n",
    "ax = stock_df_sel['month'].value_counts(normalize=False).sort_index().to_frame().transpose().plot.bar()\n",
    "ax.set_title('Stock distributed by month',fontsize=14)\n",
    "ax.set_ylabel('Count');"
   ]
  },
  {
   "cell_type": "markdown",
   "metadata": {},
   "source": [
    "* For the first 6 months, distributed stock shows an increase across time.\n",
    "* For the last 6 months, we don't have data from 2019, but the same trend seems to occur."
   ]
  },
  {
   "cell_type": "code",
   "execution_count": 14,
   "metadata": {},
   "outputs": [
    {
     "data": {
      "text/html": [
       "<div>\n",
       "<style scoped>\n",
       "    .dataframe tbody tr th:only-of-type {\n",
       "        vertical-align: middle;\n",
       "    }\n",
       "\n",
       "    .dataframe tbody tr th {\n",
       "        vertical-align: top;\n",
       "    }\n",
       "\n",
       "    .dataframe thead th {\n",
       "        text-align: right;\n",
       "    }\n",
       "</style>\n",
       "<table border=\"1\" class=\"dataframe\">\n",
       "  <thead>\n",
       "    <tr style=\"text-align: right;\">\n",
       "      <th></th>\n",
       "      <th>month</th>\n",
       "    </tr>\n",
       "  </thead>\n",
       "  <tbody>\n",
       "    <tr>\n",
       "      <th>1</th>\n",
       "      <td>1014</td>\n",
       "    </tr>\n",
       "    <tr>\n",
       "      <th>2</th>\n",
       "      <td>1002</td>\n",
       "    </tr>\n",
       "    <tr>\n",
       "      <th>3</th>\n",
       "      <td>1006</td>\n",
       "    </tr>\n",
       "    <tr>\n",
       "      <th>4</th>\n",
       "      <td>1068</td>\n",
       "    </tr>\n",
       "    <tr>\n",
       "      <th>5</th>\n",
       "      <td>1052</td>\n",
       "    </tr>\n",
       "    <tr>\n",
       "      <th>6</th>\n",
       "      <td>1032</td>\n",
       "    </tr>\n",
       "  </tbody>\n",
       "</table>\n",
       "</div>"
      ],
      "text/plain": [
       "   month\n",
       "1   1014\n",
       "2   1002\n",
       "3   1006\n",
       "4   1068\n",
       "5   1052\n",
       "6   1032"
      ]
     },
     "execution_count": 14,
     "metadata": {},
     "output_type": "execute_result"
    }
   ],
   "source": [
    "# Check 2019 data to confirm its month range:\n",
    "stock_df_sel[stock_df_sel['year']==2019]['month'].value_counts(normalize=False).to_frame().sort_index()"
   ]
  },
  {
   "cell_type": "markdown",
   "metadata": {},
   "source": [
    "* For 2019, there are data only until June."
   ]
  },
  {
   "cell_type": "code",
   "execution_count": 15,
   "metadata": {},
   "outputs": [],
   "source": [
    "# Create a datetime formated index for time series analyses:\n",
    "idx = pd.to_datetime(\n",
    "    dict(\n",
    "        year=stock_df_sel['year'], \n",
    "        month=stock_df_sel['month'], \n",
    "        day=1 # as we don't have information about the day, fill it with ones\n",
    "    )\n",
    ")\n",
    "# Set dataframe index\n",
    "stock_df_sel.set_index(idx, inplace=True)"
   ]
  },
  {
   "cell_type": "code",
   "execution_count": 16,
   "metadata": {},
   "outputs": [
    {
     "data": {
      "image/png": "[encoded data removed]",
      "text/plain": [
       "<Figure size 720x360 with 1 Axes>"
      ]
     },
     "metadata": {},
     "output_type": "display_data"
    }
   ],
   "source": [
    "# Plot total stock distributed from 2016 to 2019:\n",
    "ax = stock_df_sel.groupby(stock_df_sel.index)['stock_distributed'].sum().plot(figsize=(10,5))\n",
    "ax.set_title('Stock distributed from Jan-2016 to Jun-2019', fontsize=14)\n",
    "ax.set_ylabel('Count');"
   ]
  },
  {
   "cell_type": "markdown",
   "metadata": {},
   "source": [
    "* There is a linear uptrend.\n",
    "* Trend was disrupted in the middle of 2017."
   ]
  },
  {
   "cell_type": "code",
   "execution_count": 17,
   "metadata": {},
   "outputs": [],
   "source": [
    "# Format data frame to plot:\n",
    "monthly = stock_df_sel.resample('M').sum()\n",
    "monthly['month'] = monthly.index.month\n",
    "monthly['year'] = monthly.index.year\n",
    "pv = monthly.pivot('month', 'year', 'stock_distributed')"
   ]
  },
  {
   "cell_type": "code",
   "execution_count": 18,
   "metadata": {},
   "outputs": [
    {
     "data": {
      "image/png": "[encoded data removed]",
      "text/plain": [
       "<Figure size 720x360 with 1 Axes>"
      ]
     },
     "metadata": {},
     "output_type": "display_data"
    }
   ],
   "source": [
    "# Plot total stock distributed per year:\n",
    "ax = pv.plot(figsize=(10,5))\n",
    "ax.set_title('Stock distributed per year', fontsize=14)\n",
    "ax.set_ylabel('Count');"
   ]
  },
  {
   "cell_type": "markdown",
   "metadata": {},
   "source": [
    "* In 2017 from May to August there was an overall decline in the stock distributed."
   ]
  },
  {
   "cell_type": "code",
   "execution_count": 19,
   "metadata": {},
   "outputs": [
    {
     "data": {
      "image/png": "[encoded data removed]",
      "text/plain": [
       "<Figure size 432x288 with 2 Axes>"
      ]
     },
     "metadata": {},
     "output_type": "display_data"
    }
   ],
   "source": [
    "# Plot temporal heatmap:\n",
    "sns.heatmap(pv, annot=True);"
   ]
  },
  {
   "cell_type": "markdown",
   "metadata": {},
   "source": [
    "* Alternative visualization, similar message:\n",
    "    * stock_distribution increased from Jan-2016 until Jun-2019;\n",
    "    * there was a decline in 2017 (May - Aug)."
   ]
  },
  {
   "cell_type": "markdown",
   "metadata": {},
   "source": [
    "## Feature engineering"
   ]
  },
  {
   "cell_type": "markdown",
   "metadata": {},
   "source": [
    "* For some combinations of site_code/product, there are missing dates.\n",
    "* To do: populate missing dates and impute values for stock_distributed."
   ]
  },
  {
   "cell_type": "code",
   "execution_count": 20,
   "metadata": {},
   "outputs": [],
   "source": [
    "# 1) Define function to populate missing months from Jan-2016 until Jun-2019:\n",
    "\n",
    "def get_ts_range(input_df, date_start, date_end, date_freq):\n",
    "    \n",
    "    # Sort data frame by index:\n",
    "    input_df.sort_index(inplace=True)\n",
    "    \n",
    "    # Create an index with every month in the range from Jan-2016 until Jun-2019:\n",
    "    idx_date = pd.date_range(start=date_start, end=date_end, freq=date_freq)\n",
    "    \n",
    "    # Create a new data frame with complete dates and impute it with zeros:\n",
    "    ts_df = pd.DataFrame(np.zeros(len(idx_date)), index=idx_date)\n",
    "    \n",
    "    # Rename col:\n",
    "    ts_df.columns = ['imputation_col']\n",
    "    \n",
    "    # Concatenate input data frame with complete data frame:\n",
    "    ts_df_comp = pd.concat([ts_df, input_df], axis=1, sort=False)\n",
    "        \n",
    "    # Return data frame with complete range:\n",
    "    return ts_df_comp"
   ]
  },
  {
   "cell_type": "code",
   "execution_count": 21,
   "metadata": {},
   "outputs": [],
   "source": [
    "# 2) Define function to impute values in created months:\n",
    "    \n",
    "def impute_date_vals(input_df, cat_feat_list, target_feat):\n",
    "    \n",
    "    # 1) Impute missing values of stock_distributed with interpolation:\n",
    "    input_df[target_feat].interpolate(method='linear', inplace=True)\n",
    "    \n",
    "    # 2) Impute missing values from begining of time series with back propagation:\n",
    "    input_df[target_feat].fillna(inplace=True, method='bfill')\n",
    "\n",
    "    # 3) Impute missing values from end of time series with forward propagation:\n",
    "    input_df[target_feat].fillna(inplace=True, method='ffill')\n",
    "    \n",
    "    # 4) Impute missing values of categorical features (region, district, site_code, product_code) with mode:\n",
    "    input_df[cat_feat_list] = input_df[cat_feat_list].fillna(input_df.mode().iloc[0])\n",
    "     \n",
    "    # 5) Return complete data frame with desired features\n",
    "    return input_df[cat_feat_list+[target_feat]]"
   ]
  },
  {
   "cell_type": "code",
   "execution_count": 22,
   "metadata": {},
   "outputs": [],
   "source": [
    "# 3) Define function to fill and impute individual time series (site_code & product_code):\n",
    "\n",
    "def get_complete_df(input_df, date_start, date_end, date_freq, cat_feat_list, target_feat):\n",
    "    \n",
    "    # Create output place holder df\n",
    "    df_complete = pd.DataFrame()\n",
    "    \n",
    "    # Loop over data frame and get every 'site_code' & 'product_code' combinations:\n",
    "    for site, product in input_df.groupby(['site_code','product_code']).indices:\n",
    "        \n",
    "        # Create a dataframe for each time series:\n",
    "        single_ts_df = input_df[(input_df['site_code'] == site) & (input_df['product_code'] == product)]\n",
    "        \n",
    "        # Add missing months:\n",
    "        single_ts_df_complete_dates = get_ts_range(single_ts_df, \n",
    "                                                   date_start, \n",
    "                                                   date_end, \n",
    "                                                   date_freq)\n",
    "        \n",
    "        # Impute missing values:\n",
    "        single_ts_df_complete_dates_vals = impute_date_vals(single_ts_df_complete_dates, \n",
    "                                                            cat_feat_list,\n",
    "                                                            target_feat)\n",
    "        \n",
    "        # Concatenate individual data frames togetherL\n",
    "        df_complete = pd.concat([df_complete, single_ts_df_complete_dates_vals[cat_feat_list+[target_feat]]])\n",
    "    \n",
    "    # Return complete data frame\n",
    "    return df_complete"
   ]
  },
  {
   "cell_type": "code",
   "execution_count": 23,
   "metadata": {},
   "outputs": [],
   "source": [
    "# Run function to get a populated and imputed data frame:\n",
    "stock_df_sel_comp = get_complete_df(input_df = stock_df_sel, \n",
    "                                    date_start = '2016-01-01', \n",
    "                                    date_end = '2019-06-01', \n",
    "                                    date_freq = 'MS',\n",
    "                                    cat_feat_list = ['region', 'district', 'site_code', 'product_code'],\n",
    "                                    target_feat = 'stock_distributed')"
   ]
  },
  {
   "cell_type": "code",
   "execution_count": 24,
   "metadata": {},
   "outputs": [
    {
     "data": {
      "text/plain": [
       "<bound method DataFrame.info of                              region   district site_code product_code  \\\n",
       "2016-01-01         AGNEBY-TIASSA-ME  AGBOVILLE     C1004      AS21126   \n",
       "2016-02-01         AGNEBY-TIASSA-ME  AGBOVILLE     C1004      AS21126   \n",
       "2016-03-01         AGNEBY-TIASSA-ME  AGBOVILLE     C1004      AS21126   \n",
       "2016-04-01         AGNEBY-TIASSA-ME  AGBOVILLE     C1004      AS21126   \n",
       "2016-05-01         AGNEBY-TIASSA-ME  AGBOVILLE     C1004      AS21126   \n",
       "...                             ...        ...       ...          ...   \n",
       "2019-02-01  KABADOUGOU-BAFING-FOLON   MINIGNAN     C5066      AS46000   \n",
       "2019-03-01  KABADOUGOU-BAFING-FOLON   MINIGNAN     C5066      AS46000   \n",
       "2019-04-01  KABADOUGOU-BAFING-FOLON   MINIGNAN     C5066      AS46000   \n",
       "2019-05-01  KABADOUGOU-BAFING-FOLON   MINIGNAN     C5066      AS46000   \n",
       "2019-06-01  KABADOUGOU-BAFING-FOLON   MINIGNAN     C5066      AS46000   \n",
       "\n",
       "            stock_distributed  \n",
       "2016-01-01                0.0  \n",
       "2016-02-01                0.0  \n",
       "2016-03-01                0.0  \n",
       "2016-04-01                0.0  \n",
       "2016-05-01                0.0  \n",
       "...                       ...  \n",
       "2019-02-01                0.0  \n",
       "2019-03-01                0.0  \n",
       "2019-04-01                0.0  \n",
       "2019-05-01                0.0  \n",
       "2019-06-01                0.0  \n",
       "\n",
       "[56406 rows x 5 columns]>"
      ]
     },
     "execution_count": 24,
     "metadata": {},
     "output_type": "execute_result"
    }
   ],
   "source": [
    "# Df info:\n",
    "stock_df_sel_comp.info"
   ]
  },
  {
   "cell_type": "code",
   "execution_count": 25,
   "metadata": {},
   "outputs": [
    {
     "data": {
      "text/html": [
       "<div>\n",
       "<style scoped>\n",
       "    .dataframe tbody tr th:only-of-type {\n",
       "        vertical-align: middle;\n",
       "    }\n",
       "\n",
       "    .dataframe tbody tr th {\n",
       "        vertical-align: top;\n",
       "    }\n",
       "\n",
       "    .dataframe thead th {\n",
       "        text-align: right;\n",
       "    }\n",
       "</style>\n",
       "<table border=\"1\" class=\"dataframe\">\n",
       "  <thead>\n",
       "    <tr style=\"text-align: right;\">\n",
       "      <th></th>\n",
       "      <th>region</th>\n",
       "      <th>district</th>\n",
       "      <th>site_code</th>\n",
       "      <th>product_code</th>\n",
       "      <th>stock_distributed</th>\n",
       "    </tr>\n",
       "  </thead>\n",
       "  <tbody>\n",
       "    <tr>\n",
       "      <th>2016-01-01</th>\n",
       "      <td>20</td>\n",
       "      <td>80</td>\n",
       "      <td>155</td>\n",
       "      <td>11</td>\n",
       "      <td>89</td>\n",
       "    </tr>\n",
       "    <tr>\n",
       "      <th>2016-02-01</th>\n",
       "      <td>20</td>\n",
       "      <td>80</td>\n",
       "      <td>155</td>\n",
       "      <td>11</td>\n",
       "      <td>107</td>\n",
       "    </tr>\n",
       "    <tr>\n",
       "      <th>2016-03-01</th>\n",
       "      <td>20</td>\n",
       "      <td>80</td>\n",
       "      <td>155</td>\n",
       "      <td>11</td>\n",
       "      <td>106</td>\n",
       "    </tr>\n",
       "    <tr>\n",
       "      <th>2016-04-01</th>\n",
       "      <td>20</td>\n",
       "      <td>80</td>\n",
       "      <td>155</td>\n",
       "      <td>11</td>\n",
       "      <td>111</td>\n",
       "    </tr>\n",
       "    <tr>\n",
       "      <th>2016-05-01</th>\n",
       "      <td>20</td>\n",
       "      <td>80</td>\n",
       "      <td>155</td>\n",
       "      <td>11</td>\n",
       "      <td>113</td>\n",
       "    </tr>\n",
       "    <tr>\n",
       "      <th>2016-06-01</th>\n",
       "      <td>20</td>\n",
       "      <td>80</td>\n",
       "      <td>155</td>\n",
       "      <td>11</td>\n",
       "      <td>121</td>\n",
       "    </tr>\n",
       "    <tr>\n",
       "      <th>2016-07-01</th>\n",
       "      <td>20</td>\n",
       "      <td>80</td>\n",
       "      <td>155</td>\n",
       "      <td>11</td>\n",
       "      <td>107</td>\n",
       "    </tr>\n",
       "    <tr>\n",
       "      <th>2016-08-01</th>\n",
       "      <td>20</td>\n",
       "      <td>80</td>\n",
       "      <td>155</td>\n",
       "      <td>11</td>\n",
       "      <td>113</td>\n",
       "    </tr>\n",
       "    <tr>\n",
       "      <th>2016-09-01</th>\n",
       "      <td>20</td>\n",
       "      <td>80</td>\n",
       "      <td>155</td>\n",
       "      <td>11</td>\n",
       "      <td>113</td>\n",
       "    </tr>\n",
       "    <tr>\n",
       "      <th>2016-10-01</th>\n",
       "      <td>20</td>\n",
       "      <td>80</td>\n",
       "      <td>155</td>\n",
       "      <td>11</td>\n",
       "      <td>114</td>\n",
       "    </tr>\n",
       "    <tr>\n",
       "      <th>2016-11-01</th>\n",
       "      <td>20</td>\n",
       "      <td>80</td>\n",
       "      <td>155</td>\n",
       "      <td>11</td>\n",
       "      <td>108</td>\n",
       "    </tr>\n",
       "    <tr>\n",
       "      <th>2016-12-01</th>\n",
       "      <td>20</td>\n",
       "      <td>80</td>\n",
       "      <td>155</td>\n",
       "      <td>11</td>\n",
       "      <td>118</td>\n",
       "    </tr>\n",
       "    <tr>\n",
       "      <th>2017-01-01</th>\n",
       "      <td>20</td>\n",
       "      <td>80</td>\n",
       "      <td>155</td>\n",
       "      <td>11</td>\n",
       "      <td>110</td>\n",
       "    </tr>\n",
       "    <tr>\n",
       "      <th>2017-02-01</th>\n",
       "      <td>20</td>\n",
       "      <td>80</td>\n",
       "      <td>155</td>\n",
       "      <td>11</td>\n",
       "      <td>125</td>\n",
       "    </tr>\n",
       "    <tr>\n",
       "      <th>2017-03-01</th>\n",
       "      <td>20</td>\n",
       "      <td>80</td>\n",
       "      <td>155</td>\n",
       "      <td>11</td>\n",
       "      <td>127</td>\n",
       "    </tr>\n",
       "    <tr>\n",
       "      <th>2017-04-01</th>\n",
       "      <td>20</td>\n",
       "      <td>80</td>\n",
       "      <td>155</td>\n",
       "      <td>11</td>\n",
       "      <td>127</td>\n",
       "    </tr>\n",
       "    <tr>\n",
       "      <th>2017-05-01</th>\n",
       "      <td>20</td>\n",
       "      <td>80</td>\n",
       "      <td>155</td>\n",
       "      <td>11</td>\n",
       "      <td>132</td>\n",
       "    </tr>\n",
       "    <tr>\n",
       "      <th>2017-06-01</th>\n",
       "      <td>20</td>\n",
       "      <td>80</td>\n",
       "      <td>155</td>\n",
       "      <td>11</td>\n",
       "      <td>118</td>\n",
       "    </tr>\n",
       "    <tr>\n",
       "      <th>2017-07-01</th>\n",
       "      <td>20</td>\n",
       "      <td>80</td>\n",
       "      <td>155</td>\n",
       "      <td>11</td>\n",
       "      <td>118</td>\n",
       "    </tr>\n",
       "    <tr>\n",
       "      <th>2017-08-01</th>\n",
       "      <td>20</td>\n",
       "      <td>80</td>\n",
       "      <td>155</td>\n",
       "      <td>11</td>\n",
       "      <td>117</td>\n",
       "    </tr>\n",
       "    <tr>\n",
       "      <th>2017-09-01</th>\n",
       "      <td>20</td>\n",
       "      <td>80</td>\n",
       "      <td>155</td>\n",
       "      <td>11</td>\n",
       "      <td>124</td>\n",
       "    </tr>\n",
       "    <tr>\n",
       "      <th>2017-10-01</th>\n",
       "      <td>20</td>\n",
       "      <td>80</td>\n",
       "      <td>155</td>\n",
       "      <td>11</td>\n",
       "      <td>118</td>\n",
       "    </tr>\n",
       "    <tr>\n",
       "      <th>2017-11-01</th>\n",
       "      <td>20</td>\n",
       "      <td>80</td>\n",
       "      <td>155</td>\n",
       "      <td>11</td>\n",
       "      <td>117</td>\n",
       "    </tr>\n",
       "    <tr>\n",
       "      <th>2017-12-01</th>\n",
       "      <td>20</td>\n",
       "      <td>80</td>\n",
       "      <td>155</td>\n",
       "      <td>11</td>\n",
       "      <td>117</td>\n",
       "    </tr>\n",
       "    <tr>\n",
       "      <th>2018-01-01</th>\n",
       "      <td>20</td>\n",
       "      <td>80</td>\n",
       "      <td>155</td>\n",
       "      <td>11</td>\n",
       "      <td>128</td>\n",
       "    </tr>\n",
       "    <tr>\n",
       "      <th>2018-02-01</th>\n",
       "      <td>20</td>\n",
       "      <td>80</td>\n",
       "      <td>155</td>\n",
       "      <td>11</td>\n",
       "      <td>118</td>\n",
       "    </tr>\n",
       "    <tr>\n",
       "      <th>2018-03-01</th>\n",
       "      <td>20</td>\n",
       "      <td>80</td>\n",
       "      <td>155</td>\n",
       "      <td>11</td>\n",
       "      <td>113</td>\n",
       "    </tr>\n",
       "    <tr>\n",
       "      <th>2018-04-01</th>\n",
       "      <td>20</td>\n",
       "      <td>80</td>\n",
       "      <td>155</td>\n",
       "      <td>11</td>\n",
       "      <td>116</td>\n",
       "    </tr>\n",
       "    <tr>\n",
       "      <th>2018-05-01</th>\n",
       "      <td>20</td>\n",
       "      <td>80</td>\n",
       "      <td>155</td>\n",
       "      <td>11</td>\n",
       "      <td>121</td>\n",
       "    </tr>\n",
       "    <tr>\n",
       "      <th>2018-06-01</th>\n",
       "      <td>20</td>\n",
       "      <td>80</td>\n",
       "      <td>155</td>\n",
       "      <td>11</td>\n",
       "      <td>122</td>\n",
       "    </tr>\n",
       "    <tr>\n",
       "      <th>2018-07-01</th>\n",
       "      <td>20</td>\n",
       "      <td>80</td>\n",
       "      <td>155</td>\n",
       "      <td>11</td>\n",
       "      <td>122</td>\n",
       "    </tr>\n",
       "    <tr>\n",
       "      <th>2018-08-01</th>\n",
       "      <td>20</td>\n",
       "      <td>80</td>\n",
       "      <td>155</td>\n",
       "      <td>11</td>\n",
       "      <td>98</td>\n",
       "    </tr>\n",
       "    <tr>\n",
       "      <th>2018-09-01</th>\n",
       "      <td>20</td>\n",
       "      <td>80</td>\n",
       "      <td>155</td>\n",
       "      <td>11</td>\n",
       "      <td>104</td>\n",
       "    </tr>\n",
       "    <tr>\n",
       "      <th>2018-10-01</th>\n",
       "      <td>20</td>\n",
       "      <td>80</td>\n",
       "      <td>155</td>\n",
       "      <td>11</td>\n",
       "      <td>108</td>\n",
       "    </tr>\n",
       "    <tr>\n",
       "      <th>2018-11-01</th>\n",
       "      <td>20</td>\n",
       "      <td>80</td>\n",
       "      <td>155</td>\n",
       "      <td>11</td>\n",
       "      <td>102</td>\n",
       "    </tr>\n",
       "    <tr>\n",
       "      <th>2018-12-01</th>\n",
       "      <td>20</td>\n",
       "      <td>80</td>\n",
       "      <td>155</td>\n",
       "      <td>11</td>\n",
       "      <td>105</td>\n",
       "    </tr>\n",
       "    <tr>\n",
       "      <th>2019-01-01</th>\n",
       "      <td>20</td>\n",
       "      <td>80</td>\n",
       "      <td>155</td>\n",
       "      <td>11</td>\n",
       "      <td>101</td>\n",
       "    </tr>\n",
       "    <tr>\n",
       "      <th>2019-02-01</th>\n",
       "      <td>20</td>\n",
       "      <td>80</td>\n",
       "      <td>155</td>\n",
       "      <td>11</td>\n",
       "      <td>100</td>\n",
       "    </tr>\n",
       "    <tr>\n",
       "      <th>2019-03-01</th>\n",
       "      <td>20</td>\n",
       "      <td>80</td>\n",
       "      <td>155</td>\n",
       "      <td>11</td>\n",
       "      <td>109</td>\n",
       "    </tr>\n",
       "    <tr>\n",
       "      <th>2019-04-01</th>\n",
       "      <td>20</td>\n",
       "      <td>80</td>\n",
       "      <td>155</td>\n",
       "      <td>11</td>\n",
       "      <td>114</td>\n",
       "    </tr>\n",
       "    <tr>\n",
       "      <th>2019-05-01</th>\n",
       "      <td>20</td>\n",
       "      <td>80</td>\n",
       "      <td>155</td>\n",
       "      <td>11</td>\n",
       "      <td>115</td>\n",
       "    </tr>\n",
       "    <tr>\n",
       "      <th>2019-06-01</th>\n",
       "      <td>20</td>\n",
       "      <td>80</td>\n",
       "      <td>155</td>\n",
       "      <td>11</td>\n",
       "      <td>105</td>\n",
       "    </tr>\n",
       "  </tbody>\n",
       "</table>\n",
       "</div>"
      ],
      "text/plain": [
       "            region  district  site_code  product_code  stock_distributed\n",
       "2016-01-01      20        80        155            11                 89\n",
       "2016-02-01      20        80        155            11                107\n",
       "2016-03-01      20        80        155            11                106\n",
       "2016-04-01      20        80        155            11                111\n",
       "2016-05-01      20        80        155            11                113\n",
       "2016-06-01      20        80        155            11                121\n",
       "2016-07-01      20        80        155            11                107\n",
       "2016-08-01      20        80        155            11                113\n",
       "2016-09-01      20        80        155            11                113\n",
       "2016-10-01      20        80        155            11                114\n",
       "2016-11-01      20        80        155            11                108\n",
       "2016-12-01      20        80        155            11                118\n",
       "2017-01-01      20        80        155            11                110\n",
       "2017-02-01      20        80        155            11                125\n",
       "2017-03-01      20        80        155            11                127\n",
       "2017-04-01      20        80        155            11                127\n",
       "2017-05-01      20        80        155            11                132\n",
       "2017-06-01      20        80        155            11                118\n",
       "2017-07-01      20        80        155            11                118\n",
       "2017-08-01      20        80        155            11                117\n",
       "2017-09-01      20        80        155            11                124\n",
       "2017-10-01      20        80        155            11                118\n",
       "2017-11-01      20        80        155            11                117\n",
       "2017-12-01      20        80        155            11                117\n",
       "2018-01-01      20        80        155            11                128\n",
       "2018-02-01      20        80        155            11                118\n",
       "2018-03-01      20        80        155            11                113\n",
       "2018-04-01      20        80        155            11                116\n",
       "2018-05-01      20        80        155            11                121\n",
       "2018-06-01      20        80        155            11                122\n",
       "2018-07-01      20        80        155            11                122\n",
       "2018-08-01      20        80        155            11                 98\n",
       "2018-09-01      20        80        155            11                104\n",
       "2018-10-01      20        80        155            11                108\n",
       "2018-11-01      20        80        155            11                102\n",
       "2018-12-01      20        80        155            11                105\n",
       "2019-01-01      20        80        155            11                101\n",
       "2019-02-01      20        80        155            11                100\n",
       "2019-03-01      20        80        155            11                109\n",
       "2019-04-01      20        80        155            11                114\n",
       "2019-05-01      20        80        155            11                115\n",
       "2019-06-01      20        80        155            11                105"
      ]
     },
     "execution_count": 25,
     "metadata": {},
     "output_type": "execute_result"
    }
   ],
   "source": [
    "# Group data by index to check completeness:\n",
    "stock_df_sel_comp.groupby(stock_df_sel_comp.index).nunique()"
   ]
  },
  {
   "cell_type": "code",
   "execution_count": 26,
   "metadata": {},
   "outputs": [
    {
     "data": {
      "text/plain": [
       "region               0.0\n",
       "district             0.0\n",
       "site_code            0.0\n",
       "product_code         0.0\n",
       "stock_distributed    0.0\n",
       "dtype: float64"
      ]
     },
     "execution_count": 26,
     "metadata": {},
     "output_type": "execute_result"
    }
   ],
   "source": [
    "# Check for missing values:\n",
    "stock_df_sel_comp.isnull().mean().sort_values()"
   ]
  },
  {
   "cell_type": "markdown",
   "metadata": {},
   "source": [
    "## Forecasting Models"
   ]
  },
  {
   "cell_type": "markdown",
   "metadata": {},
   "source": [
    "### ARIMA Models "
   ]
  },
  {
   "cell_type": "code",
   "execution_count": 27,
   "metadata": {},
   "outputs": [
    {
     "data": {
      "text/html": [
       "<div>\n",
       "<style scoped>\n",
       "    .dataframe tbody tr th:only-of-type {\n",
       "        vertical-align: middle;\n",
       "    }\n",
       "\n",
       "    .dataframe tbody tr th {\n",
       "        vertical-align: top;\n",
       "    }\n",
       "\n",
       "    .dataframe thead th {\n",
       "        text-align: right;\n",
       "    }\n",
       "</style>\n",
       "<table border=\"1\" class=\"dataframe\">\n",
       "  <thead>\n",
       "    <tr style=\"text-align: right;\">\n",
       "      <th></th>\n",
       "      <th>region</th>\n",
       "      <th>district</th>\n",
       "      <th>site_code</th>\n",
       "      <th>product_code</th>\n",
       "      <th>stock_distributed</th>\n",
       "    </tr>\n",
       "  </thead>\n",
       "  <tbody>\n",
       "    <tr>\n",
       "      <th>2016-01-01</th>\n",
       "      <td>AGNEBY-TIASSA-ME</td>\n",
       "      <td>AGBOVILLE</td>\n",
       "      <td>C1004</td>\n",
       "      <td>AS21126</td>\n",
       "      <td>0.0</td>\n",
       "    </tr>\n",
       "    <tr>\n",
       "      <th>2016-02-01</th>\n",
       "      <td>AGNEBY-TIASSA-ME</td>\n",
       "      <td>AGBOVILLE</td>\n",
       "      <td>C1004</td>\n",
       "      <td>AS21126</td>\n",
       "      <td>0.0</td>\n",
       "    </tr>\n",
       "    <tr>\n",
       "      <th>2016-03-01</th>\n",
       "      <td>AGNEBY-TIASSA-ME</td>\n",
       "      <td>AGBOVILLE</td>\n",
       "      <td>C1004</td>\n",
       "      <td>AS21126</td>\n",
       "      <td>0.0</td>\n",
       "    </tr>\n",
       "    <tr>\n",
       "      <th>2016-04-01</th>\n",
       "      <td>AGNEBY-TIASSA-ME</td>\n",
       "      <td>AGBOVILLE</td>\n",
       "      <td>C1004</td>\n",
       "      <td>AS21126</td>\n",
       "      <td>0.0</td>\n",
       "    </tr>\n",
       "    <tr>\n",
       "      <th>2016-05-01</th>\n",
       "      <td>AGNEBY-TIASSA-ME</td>\n",
       "      <td>AGBOVILLE</td>\n",
       "      <td>C1004</td>\n",
       "      <td>AS21126</td>\n",
       "      <td>0.0</td>\n",
       "    </tr>\n",
       "  </tbody>\n",
       "</table>\n",
       "</div>"
      ],
      "text/plain": [
       "                      region   district site_code product_code  \\\n",
       "2016-01-01  AGNEBY-TIASSA-ME  AGBOVILLE     C1004      AS21126   \n",
       "2016-02-01  AGNEBY-TIASSA-ME  AGBOVILLE     C1004      AS21126   \n",
       "2016-03-01  AGNEBY-TIASSA-ME  AGBOVILLE     C1004      AS21126   \n",
       "2016-04-01  AGNEBY-TIASSA-ME  AGBOVILLE     C1004      AS21126   \n",
       "2016-05-01  AGNEBY-TIASSA-ME  AGBOVILLE     C1004      AS21126   \n",
       "\n",
       "            stock_distributed  \n",
       "2016-01-01                0.0  \n",
       "2016-02-01                0.0  \n",
       "2016-03-01                0.0  \n",
       "2016-04-01                0.0  \n",
       "2016-05-01                0.0  "
      ]
     },
     "execution_count": 27,
     "metadata": {},
     "output_type": "execute_result"
    }
   ],
   "source": [
    "# Check data frame formating:\n",
    "stock_df_sel_comp.head()"
   ]
  },
  {
   "cell_type": "code",
   "execution_count": 28,
   "metadata": {},
   "outputs": [],
   "source": [
    "# Define function to run ARIMA with auto_arima for order selection:\n",
    "\n",
    "def get_auto_arima_pred(input_df, target_feat, train_start, train_end, pred_months):\n",
    "   \n",
    "    # Create a placeholder to save prediction losses:\n",
    "    rmse_loss = [] # Root Mean Square Error\n",
    "    mae_loss = [] # Mean Absolute Error\n",
    "    \n",
    "    # Loop over data frame to get predictions for each individual time series:\n",
    "    for site, product in input_df.groupby(['site_code','product_code']).indices:\n",
    "\n",
    "        # Create a data frame for each combination of site_code + product code:\n",
    "        single_ts = input_df[(input_df['site_code'] == site) & (input_df['product_code'] == product)]\n",
    "\n",
    "        # Set index to monthly data:\n",
    "        single_ts.index.freq = 'MS'\n",
    "\n",
    "        # Split data in train and test (last 3 months):\n",
    "        train = single_ts.loc[train_start:train_end][target_feat]\n",
    "        test = single_ts.loc[train_end:][target_feat]\n",
    "\n",
    "        # Run auto_arima to determine ARIMA orders (p,d,q):\n",
    "        arima_model = auto_arima(train, \n",
    "                                 start_p=0, \n",
    "                                 start_d=0,\n",
    "                                 start_q=0,\n",
    "                                 max_p=6,\n",
    "                                 max_d=6,\n",
    "                                 max_q=6,\n",
    "                                 seasonal=False,\n",
    "                                 random_state=42)\n",
    "        #arima_model.summary()\n",
    "\n",
    "        # Use model to generate predictions for a given number of months:\n",
    "        prediction = arima_model.predict(n_periods=pred_months)\n",
    "\n",
    "        # Create predictions data frame to plot:\n",
    "        #prediction_df = pd.DataFrame(prediction, index=test.index)\n",
    "        #prediction_df.columns = [str('predicted_'+ target_feat)]\n",
    "\n",
    "        # Plot: train, test and predicted values:\n",
    "        #plt.figure(figsize=(8,5))\n",
    "        #plt.plot(train)\n",
    "        #plt.plot(test)\n",
    "        #plt.plot(prediction_df)\n",
    "        #plt.xlabel('Date')\n",
    "        #plt.ylabel('stock_distributed')\n",
    "        #plt.title(site + '_' + product + ': stock distributed across time')\n",
    "        #plt.legend(['Train', 'Test', 'Prediction'])\n",
    "        #plt.savefig('/plots/plot_arima'+ site + '_' + product + '.pdf')\n",
    "\n",
    "        # Compare predictions with test, compute RMSE / MAE and append them to losses:\n",
    "        rmse_loss.append(rmse(test, prediction))\n",
    "        mae_loss.append(meanabs(test, prediction))\n",
    "        \n",
    "    # Build data frame of losses:\n",
    "    df_loss = pd.DataFrame()\n",
    "    df_loss['rmse'] = rmse_loss\n",
    "    df_loss['mae'] = mae_loss\n",
    "    \n",
    "    # Return RMSE and MAE for all model predictions:\n",
    "    return df_loss"
   ]
  },
  {
   "cell_type": "code",
   "execution_count": 29,
   "metadata": {},
   "outputs": [],
   "source": [
    "# Run ARIMA and get losses for all predictions:\n",
    "out_loss_arima = get_auto_arima_pred(input_df = stock_df_sel_comp, \n",
    "                                     target_feat = 'stock_distributed',\n",
    "                                     train_start = '2016-01-01',\n",
    "                                     train_end = '2019-04-01',\n",
    "                                     pred_months = 3) # predictions for 3 months"
   ]
  },
  {
   "cell_type": "code",
   "execution_count": 30,
   "metadata": {},
   "outputs": [
    {
     "data": {
      "text/html": [
       "<div>\n",
       "<style scoped>\n",
       "    .dataframe tbody tr th:only-of-type {\n",
       "        vertical-align: middle;\n",
       "    }\n",
       "\n",
       "    .dataframe tbody tr th {\n",
       "        vertical-align: top;\n",
       "    }\n",
       "\n",
       "    .dataframe thead th {\n",
       "        text-align: right;\n",
       "    }\n",
       "</style>\n",
       "<table border=\"1\" class=\"dataframe\">\n",
       "  <thead>\n",
       "    <tr style=\"text-align: right;\">\n",
       "      <th></th>\n",
       "      <th>rmse_arima</th>\n",
       "      <th>mae_arima</th>\n",
       "    </tr>\n",
       "  </thead>\n",
       "  <tbody>\n",
       "    <tr>\n",
       "      <th>0</th>\n",
       "      <td>9.065821</td>\n",
       "      <td>7.657169</td>\n",
       "    </tr>\n",
       "  </tbody>\n",
       "</table>\n",
       "</div>"
      ],
      "text/plain": [
       "   rmse_arima  mae_arima\n",
       "0    9.065821   7.657169"
      ]
     },
     "execution_count": 30,
     "metadata": {},
     "output_type": "execute_result"
    }
   ],
   "source": [
    "# Create a dictionary to store losses:\n",
    "loss_dict = {'rmse_arima': np.mean(out_loss_arima['rmse']),\n",
    "             'mae_arima': np.mean(out_loss_arima['mae'])}\n",
    "\n",
    "pd.DataFrame(loss_dict, index=[0])"
   ]
  },
  {
   "cell_type": "markdown",
   "metadata": {},
   "source": [
    "### Neural networks - RNN LSTM"
   ]
  },
  {
   "cell_type": "code",
   "execution_count": 31,
   "metadata": {},
   "outputs": [],
   "source": [
    "# Set seed:\n",
    "seed(42)\n",
    "\n",
    "# Define model:\n",
    "n_input = 38\n",
    "n_features = 1\n",
    "model = Sequential()\n",
    "model.add(LSTM(100, activation='relu', input_shape=(n_input, n_features)))\n",
    "model.add(Dense(1, activation='relu'))\n",
    "model.compile(optimizer='adam', loss='mse')\n",
    "\n",
    "# Define function to build and get predictions from recurrent neural network LSTM:\n",
    "\n",
    "def get_lstm_pred(input_df, input_model, n_input, n_features, target_feat, n_epochs):\n",
    "\n",
    "    # Create a placeholder to save prediction losses:\n",
    "    rmse_loss = [] # RMSE\n",
    "    mae_loss = [] # MAE\n",
    "\n",
    "    # Loop over data frame to get predictions for each individual time series:\n",
    "    for site, product in input_df.groupby(['site_code','product_code']).indices:\n",
    "    \n",
    "        # Create a data frame per each time series:\n",
    "        single_ts = input_df[(input_df['site_code'] == site) & (input_df['product_code'] == product)]\n",
    "\n",
    "        # Set index to monthly data:\n",
    "        single_ts.index.freq = 'MS'\n",
    "    \n",
    "        # Train / test split:\n",
    "        train = single_ts[[target_feat]].iloc[:(n_input+1)]\n",
    "        test = single_ts[[target_feat]].iloc[(n_input+1):]\n",
    "    \n",
    "        # Instantiate scaler:\n",
    "        scaler = MinMaxScaler()\n",
    "\n",
    "        # Fit scaler on the train data only, otherwise information from the test set would be also used:\n",
    "        scaler.fit(train)\n",
    "\n",
    "        # Scale train and test:\n",
    "        scaled_train = scaler.transform(train)\n",
    "        scaled_test = scaler.transform(test)\n",
    "    \n",
    "        # Define time series generator:\n",
    "        generator = TimeseriesGenerator(scaled_train, \n",
    "                                        scaled_train, \n",
    "                                        length=n_input, \n",
    "                                        batch_size=1)\n",
    "\n",
    "        # Fit model:\n",
    "        input_model.fit_generator(generator, \n",
    "                                  epochs=n_epochs,\n",
    "                                  verbose=0)\n",
    "\n",
    "        # Plot loss per epoch:\n",
    "        #loss_per_epoch = model.history.history['loss']\n",
    "        #plt.plot(range(len(loss_per_epoch)), loss_per_epoch)\n",
    "\n",
    "        # Placeholder for test predictions:\n",
    "        test_predictions = []\n",
    "\n",
    "        # Create batch:\n",
    "        first_eval_batch = scaled_train[-n_input:]\n",
    "        current_batch = first_eval_batch.reshape((1, n_input, n_features))\n",
    "\n",
    "        # Loop to get predictions:\n",
    "        for i in range(len(test)):\n",
    "    \n",
    "            # Get prediction for 1 month ahead:\n",
    "            current_pred = model.predict(current_batch)[0]\n",
    "    \n",
    "            # Store prediction:\n",
    "            test_predictions.append(current_pred) \n",
    "    \n",
    "            # Update batch: include prediction and drop first value:\n",
    "            current_batch = np.append(current_batch[:,1:,:],[[current_pred]],axis=1)\n",
    "        \n",
    "        # Re-scale predictions to match original scale:\n",
    "        true_predictions = scaler.inverse_transform(test_predictions)\n",
    "    \n",
    "        # Add predictions to test data frame to calculate loss:\n",
    "        test['predictions'] = true_predictions\n",
    "    \n",
    "        # Plot test vs. predictions:\n",
    "        #plt.figure(figsize=(5,5))\n",
    "        #plt.plot(test)\n",
    "        #plt.xlabel('Date')\n",
    "        #plt.ylabel('stock_distributed')\n",
    "    \n",
    "        # Compute RMSE:\n",
    "        rmse_loss.append(rmse(test[target_feat], test['predictions']))\n",
    "        mae_loss.append(meanabs(test[target_feat], test['predictions']))\n",
    "    \n",
    "    # Build lossed data frame:\n",
    "    df_loss = pd.DataFrame()\n",
    "    df_loss['rmse'] = rmse_loss\n",
    "    df_loss['mae'] = mae_loss\n",
    "    \n",
    "    # Return RMSE and MAE for all model predictions:\n",
    "    return df_loss"
   ]
  },
  {
   "cell_type": "code",
   "execution_count": 32,
   "metadata": {},
   "outputs": [
    {
     "name": "stdout",
     "output_type": "stream",
     "text": [
      "WARNING:tensorflow:From <ipython-input-31-a1af9fbe1e6e>:52: Model.fit_generator (from tensorflow.python.keras.engine.training) is deprecated and will be removed in a future version.\n",
      "Instructions for updating:\n",
      "Please use Model.fit, which supports generators.\n"
     ]
    }
   ],
   "source": [
    "# Run lstm model:\n",
    "out_loss_lstm = get_lstm_pred(input_df = stock_df_sel_comp, \n",
    "                              input_model = model,\n",
    "                              n_input = n_input, \n",
    "                              n_features = n_features, \n",
    "                              target_feat = 'stock_distributed',\n",
    "                              n_epochs = 3)"
   ]
  },
  {
   "cell_type": "code",
   "execution_count": 33,
   "metadata": {},
   "outputs": [
    {
     "data": {
      "text/html": [
       "<div>\n",
       "<style scoped>\n",
       "    .dataframe tbody tr th:only-of-type {\n",
       "        vertical-align: middle;\n",
       "    }\n",
       "\n",
       "    .dataframe tbody tr th {\n",
       "        vertical-align: top;\n",
       "    }\n",
       "\n",
       "    .dataframe thead th {\n",
       "        text-align: right;\n",
       "    }\n",
       "</style>\n",
       "<table border=\"1\" class=\"dataframe\">\n",
       "  <thead>\n",
       "    <tr style=\"text-align: right;\">\n",
       "      <th></th>\n",
       "      <th>rmse_arima</th>\n",
       "      <th>mae_arima</th>\n",
       "      <th>rmse_lstm</th>\n",
       "      <th>mae_lstm</th>\n",
       "    </tr>\n",
       "  </thead>\n",
       "  <tbody>\n",
       "    <tr>\n",
       "      <th>0</th>\n",
       "      <td>9.065821</td>\n",
       "      <td>7.657169</td>\n",
       "      <td>14.599894</td>\n",
       "      <td>12.77863</td>\n",
       "    </tr>\n",
       "  </tbody>\n",
       "</table>\n",
       "</div>"
      ],
      "text/plain": [
       "   rmse_arima  mae_arima  rmse_lstm  mae_lstm\n",
       "0    9.065821   7.657169  14.599894  12.77863"
      ]
     },
     "execution_count": 33,
     "metadata": {},
     "output_type": "execute_result"
    }
   ],
   "source": [
    "# Add to lstm losses to loss dictionary:\n",
    "loss_dict['rmse_lstm'] = np.mean(out_loss_lstm['rmse'])\n",
    "loss_dict['mae_lstm'] = np.mean(out_loss_lstm['mae'])\n",
    "\n",
    "pd.DataFrame(loss_dict, index=[0])"
   ]
  },
  {
   "cell_type": "markdown",
   "metadata": {},
   "source": [
    "* At the end, ARIMA seems to perform better."
   ]
  },
  {
   "cell_type": "markdown",
   "metadata": {},
   "source": [
    "## Forecasting with ARIMA"
   ]
  },
  {
   "cell_type": "code",
   "execution_count": 34,
   "metadata": {},
   "outputs": [],
   "source": [
    "# Define function to run ARIMA with auto_arima for order selection and generate predictions using all available months:\n",
    "\n",
    "def get_auto_arima_forecast(input_df, target_feat, pred_months):\n",
    "   \n",
    "    # Create a placeholder to save predictions:\n",
    "    final_predictions = pd.DataFrame()\n",
    "\n",
    "    # Loop over data frame to get predictions for each individual time series:\n",
    "    for site, product in input_df.groupby(['site_code','product_code']).indices:\n",
    "\n",
    "        # Create a data frame for each combination of site_code + product code:\n",
    "        single_ts = input_df[(input_df['site_code'] == site) & (input_df['product_code'] == product)]\n",
    "\n",
    "        # Set index to monthly data:\n",
    "        single_ts.index.freq = 'MS'\n",
    "\n",
    "        # Run auto_arima to determine ARIMA orders (p,d,q):\n",
    "        arima_model = auto_arima(single_ts[[target_feat]], \n",
    "                                 start_p=0, \n",
    "                                 start_d=0,\n",
    "                                 start_q=0,\n",
    "                                 max_p=6,\n",
    "                                 max_d=6,\n",
    "                                 max_q=6,\n",
    "                                 seasonal=False,\n",
    "                                 random_state=42)\n",
    "        #arima_model.summary()\n",
    "\n",
    "        # Use model to generate predictions for a given number of months:\n",
    "        prediction = arima_model.predict(n_periods=pred_months)\n",
    "\n",
    "        # Add ID to predictions do build output data frame:\n",
    "        pred_id = [['2019 X 7 X ' + site + ' X ' + product, max(0,prediction[0])], # if prediction < 0; return 0\n",
    "                   ['2019 X 8 X ' + site + ' X ' + product, max(0,prediction[1])],\n",
    "                   ['2019 X 9 X ' + site + ' X ' + product, max(0,prediction[2])]]\n",
    "        predictions_df = pd.DataFrame(pred_id, columns=['ID','model_prediction']) \n",
    "        \n",
    "        # Build predictions data frame:\n",
    "        final_predictions = pd.concat([final_predictions,predictions_df])\n",
    "        \n",
    "    # Return predictions:\n",
    "    return final_predictions.reset_index(drop=True)"
   ]
  },
  {
   "cell_type": "code",
   "execution_count": 35,
   "metadata": {},
   "outputs": [],
   "source": [
    "# Run ARIMA and get predictions:\n",
    "pred_arima_df = get_auto_arima_forecast(input_df = stock_df_sel_comp, \n",
    "                                        target_feat = 'stock_distributed',\n",
    "                                        pred_months = 3) # predictions for 3 months"
   ]
  },
  {
   "cell_type": "code",
   "execution_count": 36,
   "metadata": {},
   "outputs": [
    {
     "data": {
      "text/html": [
       "<div>\n",
       "<style scoped>\n",
       "    .dataframe tbody tr th:only-of-type {\n",
       "        vertical-align: middle;\n",
       "    }\n",
       "\n",
       "    .dataframe tbody tr th {\n",
       "        vertical-align: top;\n",
       "    }\n",
       "\n",
       "    .dataframe thead th {\n",
       "        text-align: right;\n",
       "    }\n",
       "</style>\n",
       "<table border=\"1\" class=\"dataframe\">\n",
       "  <thead>\n",
       "    <tr style=\"text-align: right;\">\n",
       "      <th></th>\n",
       "      <th>ID</th>\n",
       "      <th>model_prediction</th>\n",
       "    </tr>\n",
       "  </thead>\n",
       "  <tbody>\n",
       "    <tr>\n",
       "      <th>0</th>\n",
       "      <td>2019 X 7 X C1004 X AS21126</td>\n",
       "      <td>0.000000</td>\n",
       "    </tr>\n",
       "    <tr>\n",
       "      <th>1</th>\n",
       "      <td>2019 X 8 X C1004 X AS21126</td>\n",
       "      <td>0.000000</td>\n",
       "    </tr>\n",
       "    <tr>\n",
       "      <th>2</th>\n",
       "      <td>2019 X 9 X C1004 X AS21126</td>\n",
       "      <td>0.000000</td>\n",
       "    </tr>\n",
       "    <tr>\n",
       "      <th>3</th>\n",
       "      <td>2019 X 7 X C1004 X AS27000</td>\n",
       "      <td>38.025208</td>\n",
       "    </tr>\n",
       "    <tr>\n",
       "      <th>4</th>\n",
       "      <td>2019 X 8 X C1004 X AS27000</td>\n",
       "      <td>26.031865</td>\n",
       "    </tr>\n",
       "  </tbody>\n",
       "</table>\n",
       "</div>"
      ],
      "text/plain": [
       "                           ID  model_prediction\n",
       "0  2019 X 7 X C1004 X AS21126          0.000000\n",
       "1  2019 X 8 X C1004 X AS21126          0.000000\n",
       "2  2019 X 9 X C1004 X AS21126          0.000000\n",
       "3  2019 X 7 X C1004 X AS27000         38.025208\n",
       "4  2019 X 8 X C1004 X AS27000         26.031865"
      ]
     },
     "execution_count": 36,
     "metadata": {},
     "output_type": "execute_result"
    }
   ],
   "source": [
    "# Check output:\n",
    "pred_arima_df.head()"
   ]
  },
  {
   "cell_type": "markdown",
   "metadata": {},
   "source": [
    "## Forecasting with LSTM"
   ]
  },
  {
   "cell_type": "code",
   "execution_count": 37,
   "metadata": {},
   "outputs": [],
   "source": [
    "# Set seed\n",
    "seed(42)\n",
    "\n",
    "# Built and fit model using full dataset to forecast 3 months in the future:\n",
    "\n",
    "# Define model:\n",
    "n_input = 41    # Include all available months\n",
    "n_features = 1\n",
    "model = Sequential()\n",
    "model.add(LSTM(100, activation='relu', input_shape=(n_input, n_features)))\n",
    "model.add(Dense(1, activation='relu'))\n",
    "model.compile(optimizer='adam', loss='mse')\n",
    "\n",
    "# Define function to build and get predictions from RNN LSTM:\n",
    "\n",
    "def get_lstm_forecast(input_df, input_model, n_input, n_features, target_feat, n_epochs, pred_months):\n",
    "\n",
    "    # Create a placeholder to save predictions:\n",
    "    final_predictions = pd.DataFrame()\n",
    "\n",
    "    # Loop over data frame to get predictions for each individual time series:\n",
    "    for site, product in input_df.groupby(['site_code','product_code']).indices:\n",
    "    \n",
    "        # Create a data frame per each time series:\n",
    "        single_ts = input_df[(input_df['site_code'] == site) & (input_df['product_code'] == product)]\n",
    "\n",
    "        # Set index to monthly data:\n",
    "        single_ts.index.freq = 'MS'\n",
    "        \n",
    "        # Instantiate scaler:\n",
    "        scaler = MinMaxScaler()\n",
    "\n",
    "        # Fit scaler:\n",
    "        scaler.fit(single_ts[[target_feat]])\n",
    "\n",
    "        # Scale data:\n",
    "        scaled_df = scaler.transform(single_ts[[target_feat]])\n",
    "    \n",
    "        # Define time series generator:\n",
    "        generator = TimeseriesGenerator(scaled_df, \n",
    "                                        scaled_df, \n",
    "                                        length=n_input, \n",
    "                                        batch_size=1)\n",
    "\n",
    "        # Fit model:\n",
    "        input_model.fit_generator(generator, \n",
    "                                  epochs=n_epochs,\n",
    "                                  verbose=0)\n",
    "\n",
    "        # Plot loss per epoch\n",
    "        #loss_per_epoch = model.history.history['loss']\n",
    "        #plt.plot(range(len(loss_per_epoch)), loss_per_epoch)\n",
    "\n",
    "        # Save predictions:\n",
    "        out_predictions = []\n",
    "\n",
    "        # Create batch:\n",
    "        first_eval_batch = scaled_df[-n_input:]\n",
    "        current_batch = first_eval_batch.reshape((1, n_input, n_features))\n",
    "\n",
    "        # Loop to get predictions:\n",
    "        for i in range(pred_months):\n",
    "    \n",
    "            # Get prediction for 1 month ahead:\n",
    "            current_pred = model.predict(current_batch)[0]\n",
    "    \n",
    "            # Store prediction:\n",
    "            out_predictions.append(current_pred) \n",
    "    \n",
    "            # Update batch: include prediction and drop first value:\n",
    "            current_batch = np.append(current_batch[:,1:,:],[[current_pred]],axis=1)\n",
    "        \n",
    "        # Re-scale predictions to match original scale:\n",
    "        true_predictions = scaler.inverse_transform(out_predictions)\n",
    "    \n",
    "        # Add ID to predictions do build output data frame:\n",
    "        pred_id = [['2019 X 7 X ' + site + ' X ' + product, true_predictions[0,0]],\n",
    "                   ['2019 X 8 X ' + site + ' X ' + product, true_predictions[1,0]],\n",
    "                   ['2019 X 9 X ' + site + ' X ' + product, true_predictions[2,0]]]\n",
    "        predictions_df = pd.DataFrame(pred_id, columns=['ID','model_prediction']) \n",
    "        \n",
    "        # Build output predictions data frame:\n",
    "        final_predictions = pd.concat([final_predictions,predictions_df])\n",
    "        \n",
    "        # Save model:\n",
    "        #model.save(product + '_' + site + '_rnn_full_model.h5')\n",
    "    \n",
    "    # Return predictions:\n",
    "    return final_predictions.reset_index(drop=True)"
   ]
  },
  {
   "cell_type": "code",
   "execution_count": 38,
   "metadata": {},
   "outputs": [],
   "source": [
    "# Run final rnn lstm model and get predictions:\n",
    "pred_lstm_df = get_lstm_forecast(input_df = stock_df_sel_comp, \n",
    "                                 input_model = model,\n",
    "                                 n_input = n_input,\n",
    "                                 n_features = n_features, \n",
    "                                 target_feat = 'stock_distributed',\n",
    "                                 n_epochs = 3,\n",
    "                                 pred_months=3)"
   ]
  },
  {
   "cell_type": "code",
   "execution_count": 39,
   "metadata": {},
   "outputs": [
    {
     "data": {
      "text/html": [
       "<div>\n",
       "<style scoped>\n",
       "    .dataframe tbody tr th:only-of-type {\n",
       "        vertical-align: middle;\n",
       "    }\n",
       "\n",
       "    .dataframe tbody tr th {\n",
       "        vertical-align: top;\n",
       "    }\n",
       "\n",
       "    .dataframe thead th {\n",
       "        text-align: right;\n",
       "    }\n",
       "</style>\n",
       "<table border=\"1\" class=\"dataframe\">\n",
       "  <thead>\n",
       "    <tr style=\"text-align: right;\">\n",
       "      <th></th>\n",
       "      <th>ID</th>\n",
       "      <th>model_prediction</th>\n",
       "    </tr>\n",
       "  </thead>\n",
       "  <tbody>\n",
       "    <tr>\n",
       "      <th>0</th>\n",
       "      <td>2019 X 7 X C1004 X AS21126</td>\n",
       "      <td>0.0</td>\n",
       "    </tr>\n",
       "    <tr>\n",
       "      <th>1</th>\n",
       "      <td>2019 X 8 X C1004 X AS21126</td>\n",
       "      <td>0.0</td>\n",
       "    </tr>\n",
       "    <tr>\n",
       "      <th>2</th>\n",
       "      <td>2019 X 9 X C1004 X AS21126</td>\n",
       "      <td>0.0</td>\n",
       "    </tr>\n",
       "    <tr>\n",
       "      <th>3</th>\n",
       "      <td>2019 X 7 X C1004 X AS27000</td>\n",
       "      <td>0.0</td>\n",
       "    </tr>\n",
       "    <tr>\n",
       "      <th>4</th>\n",
       "      <td>2019 X 8 X C1004 X AS27000</td>\n",
       "      <td>0.0</td>\n",
       "    </tr>\n",
       "  </tbody>\n",
       "</table>\n",
       "</div>"
      ],
      "text/plain": [
       "                           ID  model_prediction\n",
       "0  2019 X 7 X C1004 X AS21126               0.0\n",
       "1  2019 X 8 X C1004 X AS21126               0.0\n",
       "2  2019 X 9 X C1004 X AS21126               0.0\n",
       "3  2019 X 7 X C1004 X AS27000               0.0\n",
       "4  2019 X 8 X C1004 X AS27000               0.0"
      ]
     },
     "execution_count": 39,
     "metadata": {},
     "output_type": "execute_result"
    }
   ],
   "source": [
    "# Check output:\n",
    "pred_lstm_df.head()"
   ]
  },
  {
   "cell_type": "markdown",
   "metadata": {},
   "source": [
    "### Format and save final predictions"
   ]
  },
  {
   "cell_type": "code",
   "execution_count": 40,
   "metadata": {},
   "outputs": [
    {
     "data": {
      "text/html": [
       "<div>\n",
       "<style scoped>\n",
       "    .dataframe tbody tr th:only-of-type {\n",
       "        vertical-align: middle;\n",
       "    }\n",
       "\n",
       "    .dataframe tbody tr th {\n",
       "        vertical-align: top;\n",
       "    }\n",
       "\n",
       "    .dataframe thead th {\n",
       "        text-align: right;\n",
       "    }\n",
       "</style>\n",
       "<table border=\"1\" class=\"dataframe\">\n",
       "  <thead>\n",
       "    <tr style=\"text-align: right;\">\n",
       "      <th></th>\n",
       "      <th>ID</th>\n",
       "      <th>prediction</th>\n",
       "    </tr>\n",
       "  </thead>\n",
       "  <tbody>\n",
       "    <tr>\n",
       "      <th>0</th>\n",
       "      <td>2019 X 7 X C4001 X AS21126</td>\n",
       "      <td>0</td>\n",
       "    </tr>\n",
       "    <tr>\n",
       "      <th>1</th>\n",
       "      <td>2019 X 7 X C4001 X AS27134</td>\n",
       "      <td>0</td>\n",
       "    </tr>\n",
       "    <tr>\n",
       "      <th>2</th>\n",
       "      <td>2019 X 7 X C4001 X AS27132</td>\n",
       "      <td>0</td>\n",
       "    </tr>\n",
       "    <tr>\n",
       "      <th>3</th>\n",
       "      <td>2019 X 7 X C4001 X AS27000</td>\n",
       "      <td>0</td>\n",
       "    </tr>\n",
       "    <tr>\n",
       "      <th>4</th>\n",
       "      <td>2019 X 7 X C4001 X AS27137</td>\n",
       "      <td>0</td>\n",
       "    </tr>\n",
       "  </tbody>\n",
       "</table>\n",
       "</div>"
      ],
      "text/plain": [
       "                           ID  prediction\n",
       "0  2019 X 7 X C4001 X AS21126           0\n",
       "1  2019 X 7 X C4001 X AS27134           0\n",
       "2  2019 X 7 X C4001 X AS27132           0\n",
       "3  2019 X 7 X C4001 X AS27000           0\n",
       "4  2019 X 7 X C4001 X AS27137           0"
      ]
     },
     "execution_count": 40,
     "metadata": {},
     "output_type": "execute_result"
    }
   ],
   "source": [
    "# Import 'SampleSubmission.csv':\n",
    "sample_submission = pd.read_csv(\"/data/SampleSubmission.csv\")\n",
    "sample_submission.head()"
   ]
  },
  {
   "cell_type": "code",
   "execution_count": 41,
   "metadata": {},
   "outputs": [
    {
     "data": {
      "text/html": [
       "<div>\n",
       "<style scoped>\n",
       "    .dataframe tbody tr th:only-of-type {\n",
       "        vertical-align: middle;\n",
       "    }\n",
       "\n",
       "    .dataframe tbody tr th {\n",
       "        vertical-align: top;\n",
       "    }\n",
       "\n",
       "    .dataframe thead th {\n",
       "        text-align: right;\n",
       "    }\n",
       "</style>\n",
       "<table border=\"1\" class=\"dataframe\">\n",
       "  <thead>\n",
       "    <tr style=\"text-align: right;\">\n",
       "      <th></th>\n",
       "      <th>ID</th>\n",
       "      <th>model_prediction</th>\n",
       "    </tr>\n",
       "  </thead>\n",
       "  <tbody>\n",
       "    <tr>\n",
       "      <th>0</th>\n",
       "      <td>2019 X 7 X C4001 X AS21126</td>\n",
       "      <td>0.000000</td>\n",
       "    </tr>\n",
       "    <tr>\n",
       "      <th>1</th>\n",
       "      <td>2019 X 7 X C4001 X AS27134</td>\n",
       "      <td>21.142857</td>\n",
       "    </tr>\n",
       "    <tr>\n",
       "      <th>2</th>\n",
       "      <td>2019 X 7 X C4001 X AS27132</td>\n",
       "      <td>0.845238</td>\n",
       "    </tr>\n",
       "    <tr>\n",
       "      <th>3</th>\n",
       "      <td>2019 X 7 X C4001 X AS27000</td>\n",
       "      <td>9.908045</td>\n",
       "    </tr>\n",
       "    <tr>\n",
       "      <th>4</th>\n",
       "      <td>2019 X 7 X C4001 X AS27137</td>\n",
       "      <td>0.142857</td>\n",
       "    </tr>\n",
       "  </tbody>\n",
       "</table>\n",
       "</div>"
      ],
      "text/plain": [
       "                           ID  model_prediction\n",
       "0  2019 X 7 X C4001 X AS21126          0.000000\n",
       "1  2019 X 7 X C4001 X AS27134         21.142857\n",
       "2  2019 X 7 X C4001 X AS27132          0.845238\n",
       "3  2019 X 7 X C4001 X AS27000          9.908045\n",
       "4  2019 X 7 X C4001 X AS27137          0.142857"
      ]
     },
     "execution_count": 41,
     "metadata": {},
     "output_type": "execute_result"
    }
   ],
   "source": [
    "# Match predictions with 'SampleSubmission.csv':\n",
    "out_pred = pd.concat([sample_submission.set_index('ID'), \n",
    "                      #pred_lstm_df.set_index('ID')],       # LSTM predictions\n",
    "                      pred_arima_df.set_index('ID')],       # ARIMA predictions\n",
    "                      axis=1, \n",
    "                     join='inner').reset_index().drop(columns='prediction')\n",
    "\n",
    "out_pred.head()"
   ]
  },
  {
   "cell_type": "code",
   "execution_count": 42,
   "metadata": {},
   "outputs": [
    {
     "name": "stdout",
     "output_type": "stream",
     "text": [
      "Predictions shape: (3068, 2)\n",
      "Sample submission shape: (3089, 2)\n"
     ]
    }
   ],
   "source": [
    "# Check dimensions to see if they match 'SampleSubmission.csv':\n",
    "print(f'Predictions shape: {out_pred.shape}')\n",
    "print(f'Sample submission shape: {sample_submission.shape}')"
   ]
  },
  {
   "cell_type": "markdown",
   "metadata": {},
   "source": [
    "* Some combinations of site_code + product_code in 'SampleSubmission.csv' were missing in 'Train.csv'.\n",
    "* Populate those missing rows and impute predictions with zeros."
   ]
  },
  {
   "cell_type": "code",
   "execution_count": 43,
   "metadata": {},
   "outputs": [
    {
     "name": "stdout",
     "output_type": "stream",
     "text": [
      "Predictions shape: (3089, 2)\n",
      "Sample submission shape: (3089, 2)\n"
     ]
    }
   ],
   "source": [
    "# Complete submission with outer join to match final output with 'SampleSubmission.csv':\n",
    "out_pred_final = pd.concat([sample_submission.set_index('ID'), \n",
    "                            out_pred.set_index('ID')], \n",
    "                           axis=1, \n",
    "                           join='outer').reset_index().drop(columns='prediction')\n",
    "\n",
    "# Check dimensions to see if they match 'SampleSubmission.csv':\n",
    "print(f'Predictions shape: {out_pred_final.shape}')\n",
    "print(f'Sample submission shape: {sample_submission.shape}')"
   ]
  },
  {
   "cell_type": "markdown",
   "metadata": {},
   "source": [
    "* Dimensions match 'SampleSubmission.csv'."
   ]
  },
  {
   "cell_type": "code",
   "execution_count": 44,
   "metadata": {},
   "outputs": [
    {
     "data": {
      "text/html": [
       "<div>\n",
       "<style scoped>\n",
       "    .dataframe tbody tr th:only-of-type {\n",
       "        vertical-align: middle;\n",
       "    }\n",
       "\n",
       "    .dataframe tbody tr th {\n",
       "        vertical-align: top;\n",
       "    }\n",
       "\n",
       "    .dataframe thead th {\n",
       "        text-align: right;\n",
       "    }\n",
       "</style>\n",
       "<table border=\"1\" class=\"dataframe\">\n",
       "  <thead>\n",
       "    <tr style=\"text-align: right;\">\n",
       "      <th></th>\n",
       "      <th>ID</th>\n",
       "      <th>prediction</th>\n",
       "    </tr>\n",
       "  </thead>\n",
       "  <tbody>\n",
       "    <tr>\n",
       "      <th>0</th>\n",
       "      <td>2019 X 7 X C4001 X AS21126</td>\n",
       "      <td>0.000000</td>\n",
       "    </tr>\n",
       "    <tr>\n",
       "      <th>1</th>\n",
       "      <td>2019 X 7 X C4001 X AS27134</td>\n",
       "      <td>21.142857</td>\n",
       "    </tr>\n",
       "    <tr>\n",
       "      <th>2</th>\n",
       "      <td>2019 X 7 X C4001 X AS27132</td>\n",
       "      <td>0.845238</td>\n",
       "    </tr>\n",
       "    <tr>\n",
       "      <th>3</th>\n",
       "      <td>2019 X 7 X C4001 X AS27000</td>\n",
       "      <td>9.908045</td>\n",
       "    </tr>\n",
       "    <tr>\n",
       "      <th>4</th>\n",
       "      <td>2019 X 7 X C4001 X AS27137</td>\n",
       "      <td>0.142857</td>\n",
       "    </tr>\n",
       "  </tbody>\n",
       "</table>\n",
       "</div>"
      ],
      "text/plain": [
       "                           ID  prediction\n",
       "0  2019 X 7 X C4001 X AS21126    0.000000\n",
       "1  2019 X 7 X C4001 X AS27134   21.142857\n",
       "2  2019 X 7 X C4001 X AS27132    0.845238\n",
       "3  2019 X 7 X C4001 X AS27000    9.908045\n",
       "4  2019 X 7 X C4001 X AS27137    0.142857"
      ]
     },
     "execution_count": 44,
     "metadata": {},
     "output_type": "execute_result"
    }
   ],
   "source": [
    "# Impute missing data with zeros:\n",
    "out_pred_final.fillna(0, inplace=True)\n",
    "\n",
    "# Rename columns to match 'SampleSubmission.csv':\n",
    "out_pred_final.columns = ['ID', 'prediction']\n",
    "\n",
    "# Check final output:\n",
    "out_pred_final.head()"
   ]
  },
  {
   "cell_type": "code",
   "execution_count": 45,
   "metadata": {},
   "outputs": [],
   "source": [
    "# Save .csv file with final predictions from ARIMA:\n",
    "out_pred_final.to_csv('/data/PredictionSubmission_ARIMA.csv', index = False)"
   ]
  }
 ],
 "metadata": {
  "kernelspec": {
   "display_name": "Python 3",
   "language": "python",
   "name": "python3"
  },
  "language_info": {
   "codemirror_mode": {
    "name": "ipython",
    "version": 3
   },
   "file_extension": ".py",
   "mimetype": "text/x-python",
   "name": "python",
   "nbconvert_exporter": "python",
   "pygments_lexer": "ipython3",
   "version": "3.7.6"
  }
 },
 "nbformat": 4,
 "nbformat_minor": 4
}
